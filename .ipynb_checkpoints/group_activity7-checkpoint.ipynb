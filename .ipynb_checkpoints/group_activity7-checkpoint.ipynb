{
 "cells": [
  {
   "cell_type": "code",
   "execution_count": 1,
   "id": "a0b1928d-6bfc-493c-ad39-6a67ea6d418a",
   "metadata": {
    "tags": []
   },
   "outputs": [],
   "source": [
    "# Initialize Otter \n",
    "import otter\n",
    "grader = otter.Notebook(\"group_activity7.ipynb\")"
   ]
  },
  {
   "cell_type": "markdown",
   "id": "e7ed7f8d-3f69-4117-8be4-766c86270b7b",
   "metadata": {},
   "source": [
    "# In-class coding exercise #7\n",
    "Objective: In this exercise you will practice using advanced pandas functions, such as`groupby()`, `resample()`, and `rolling`.\n",
    "\n",
    "## Introduction to group coding exercises\n",
    "Today you’ll work on this exercise in new groups of 3-4, submitting a single notebook file at the end of the class period. Decide amongst yourselves which member will upload the completed notebook to Gradescope this week. Make sure that everyone takes a turn being the “Uploader”. _You cannot upload the final code two weeks in a row._\n",
    "\n",
    "Designate a different group member to be the \"Reporter\". The Reporter will be in charge of participating in the group discussion at the end of the class session.\n",
    "\n",
    "### Workflow\n",
    "Each question will be timed to ensure that everyone gets to work on at least a part of every question. Group activities are not graded by completeness or correctness, but by effort. We will be breaking down each question in the following order:  \n",
    "1. Independent work \n",
    "2. Group work and discussion on coding question\n",
    "3. Group work and discussion on reflection questions\n",
    "\n",
    "You are welcome and encouraged to communicate with other groups and the teaching team when you feel stuck on a problem. \n",
    "\n",
    "As a reminder, we will be grading based best practices in coding. These include: \n",
    "1) Variables are used to store objects\n",
    "\n",
    "2) Code is commented adequately\n",
    "\n",
    "3) Variables are names appropriately\n",
    "\n",
    "4) Code is efficient with minimal unnecessary lines \n",
    "\n",
    "5) Documenting help from outside sources, such as from other groups or online documentation. \n",
    "\n",
    "6) Final notebook fully runs from start to finish. A good way to check this is restarting the kernel and fully running through all the cells to check for any errors.\n",
    "\n",
    "### Storing your answers\n",
    "In the code cells where you will write your answers, there will be comments denoting:\n",
    "\n",
    "\"**# your code**\"\n",
    "\n",
    "and \n",
    "\n",
    "\"**# answer variables**\"\n",
    "\n",
    "You may store any intermediary variables in the **your code** section. If you do not have any intermediary, you can also store your answer directly in the answer variables.\n",
    "\n",
    "### Required Plot Elements for Figures\n",
    "This assignments requires you to create and design figures using `matplotlib`. To practice good plotting practices, each figure will require the following to receive full points:\n",
    "1) Concise, descriptive title for each figure/subplot\n",
    "2) Axis labels with units (when possible)\n",
    "3) Appropriate axis limits (minimum and maximum)\n",
    "4) Appropriate tick resolution\n",
    "5) Legend when using different datasets \n",
    "6) Appropriate font size (a good range is 12-15)"
   ]
  },
  {
   "cell_type": "markdown",
   "id": "e5003520-df62-4a6f-b7ba-9b90d5f00953",
   "metadata": {},
   "source": [
    "## Note here **and in the Gradescope submission** each of your group members:\n",
    "1. Alex Hankins \n",
    "2. Lizzie\n",
    "3. Aldrich "
   ]
  },
  {
   "cell_type": "markdown",
   "id": "1b38d0c0-b284-4458-8eb0-a2d03a58496a",
   "metadata": {
    "deletable": false,
    "editable": false
   },
   "source": [
    "# Q1: Primary Productivity from Station ALOHA\n",
    "\n",
    "Today, we will be analyzing primary production data from Station ALOHA. \n",
    "\n",
    "\"Station ALOHA is the focal point of a range of oceanographic studies conducted over great temporal scale that intend to understand and explain the trends of the greater North Pacific Ocean.\" [Source](https://aco-ssds.soest.hawaii.edu/ALOHA/)\n",
    "\n",
    "Primary production is the measurement of carbon accumulated by photosynthesis. This term represents how much carbon is stored by unit volume and is calculated via the 14C-assimilation method. [Reference](https://hahana.soest.hawaii.edu/hot/protocols/protocols.html?Chapter=14)\n",
    "\n",
    "<img src = \"https://i.ibb.co/Bf2Rt1b/station-aloha.png\" width = 500>"
   ]
  },
  {
   "cell_type": "markdown",
   "id": "546d8141-e3c5-4d85-9c3c-f6542e7dbb4b",
   "metadata": {
    "deletable": false,
    "editable": false
   },
   "source": [
    "## Part 1 (10 minutes)\n",
    "Here, we will be downloading data via Simons CMAP as we did the previous week. Use the link to the dataset [(here)](https://simonscmap.com/catalog/datasets/HOT_PP_v2022) to view the metadata and get units for your plots.\n",
    "\n",
    "1) Using the starter code, fill in the `key` variable with your own API key from CMAP. If you haven't already generated an API key, create one [here](https://simonscmap.com/apikeymanagement). \n",
    "\n",
    "2) Once you have run the starter code, set the \"time\" column of the `hot_df` DataFrame to `datetime` using the `pandas.to_datetime()` function. \n",
    "\n",
    "3) Sort `hot_df` by the \"time\" column using the `pandas.sort_values()` function. \n",
    "\n",
    "4) Primary production measurements were taken at discrete (individual or separate) depths. To smooth some of the data, create a new column named \"round_depth\" that contains the rounded depth to **20 m**. \n",
    "\n",
    "_HINT_: Review this week's demo on how to do this!"
   ]
  },
  {
   "cell_type": "code",
   "execution_count": 2,
   "id": "0a911699-b0c6-4da4-b424-705b943bb7fb",
   "metadata": {
    "tags": []
   },
   "outputs": [
    {
     "data": {
      "text/html": [
       "<div>\n",
       "<style scoped>\n",
       "    .dataframe tbody tr th:only-of-type {\n",
       "        vertical-align: middle;\n",
       "    }\n",
       "\n",
       "    .dataframe tbody tr th {\n",
       "        vertical-align: top;\n",
       "    }\n",
       "\n",
       "    .dataframe thead th {\n",
       "        text-align: right;\n",
       "    }\n",
       "</style>\n",
       "<table border=\"1\" class=\"dataframe\">\n",
       "  <thead>\n",
       "    <tr style=\"text-align: right;\">\n",
       "      <th></th>\n",
       "      <th>time</th>\n",
       "      <th>lat</th>\n",
       "      <th>lon</th>\n",
       "      <th>depth</th>\n",
       "      <th>cruise</th>\n",
       "      <th>stime</th>\n",
       "      <th>etime</th>\n",
       "      <th>itype</th>\n",
       "      <th>chl</th>\n",
       "      <th>phaeo</th>\n",
       "      <th>l12</th>\n",
       "      <th>d12</th>\n",
       "      <th>bsal</th>\n",
       "      <th>pbact</th>\n",
       "      <th>hbact</th>\n",
       "      <th>sbact</th>\n",
       "      <th>ebact</th>\n",
       "    </tr>\n",
       "  </thead>\n",
       "  <tbody>\n",
       "    <tr>\n",
       "      <th>0</th>\n",
       "      <td>1988-10-31T00:00:00</td>\n",
       "      <td>22.75</td>\n",
       "      <td>-158</td>\n",
       "      <td>24</td>\n",
       "      <td>HOT001</td>\n",
       "      <td>NaN</td>\n",
       "      <td>NaN</td>\n",
       "      <td>0</td>\n",
       "      <td>0.129</td>\n",
       "      <td>0.077</td>\n",
       "      <td>12.21</td>\n",
       "      <td>NaN</td>\n",
       "      <td>NaN</td>\n",
       "      <td>NaN</td>\n",
       "      <td>NaN</td>\n",
       "      <td>NaN</td>\n",
       "      <td>NaN</td>\n",
       "    </tr>\n",
       "    <tr>\n",
       "      <th>1</th>\n",
       "      <td>1988-10-31T00:00:00</td>\n",
       "      <td>22.75</td>\n",
       "      <td>-158</td>\n",
       "      <td>42</td>\n",
       "      <td>HOT001</td>\n",
       "      <td>NaN</td>\n",
       "      <td>NaN</td>\n",
       "      <td>0</td>\n",
       "      <td>0.192</td>\n",
       "      <td>0.051</td>\n",
       "      <td>2.47</td>\n",
       "      <td>0.07</td>\n",
       "      <td>NaN</td>\n",
       "      <td>NaN</td>\n",
       "      <td>NaN</td>\n",
       "      <td>NaN</td>\n",
       "      <td>NaN</td>\n",
       "    </tr>\n",
       "    <tr>\n",
       "      <th>2</th>\n",
       "      <td>1988-10-31T00:00:00</td>\n",
       "      <td>22.75</td>\n",
       "      <td>-158</td>\n",
       "      <td>68</td>\n",
       "      <td>HOT001</td>\n",
       "      <td>NaN</td>\n",
       "      <td>NaN</td>\n",
       "      <td>0</td>\n",
       "      <td>0.285</td>\n",
       "      <td>0.303</td>\n",
       "      <td>2.58</td>\n",
       "      <td>0.06</td>\n",
       "      <td>NaN</td>\n",
       "      <td>NaN</td>\n",
       "      <td>NaN</td>\n",
       "      <td>NaN</td>\n",
       "      <td>NaN</td>\n",
       "    </tr>\n",
       "    <tr>\n",
       "      <th>3</th>\n",
       "      <td>1988-10-31T00:00:00</td>\n",
       "      <td>22.75</td>\n",
       "      <td>-158</td>\n",
       "      <td>114</td>\n",
       "      <td>HOT001</td>\n",
       "      <td>NaN</td>\n",
       "      <td>NaN</td>\n",
       "      <td>0</td>\n",
       "      <td>0.326</td>\n",
       "      <td>0.044</td>\n",
       "      <td>0.72</td>\n",
       "      <td>0.16</td>\n",
       "      <td>NaN</td>\n",
       "      <td>NaN</td>\n",
       "      <td>NaN</td>\n",
       "      <td>NaN</td>\n",
       "      <td>NaN</td>\n",
       "    </tr>\n",
       "    <tr>\n",
       "      <th>4</th>\n",
       "      <td>1988-12-02T00:00:00</td>\n",
       "      <td>22.75</td>\n",
       "      <td>-158</td>\n",
       "      <td>0</td>\n",
       "      <td>HOT002</td>\n",
       "      <td>NaN</td>\n",
       "      <td>NaN</td>\n",
       "      <td>0</td>\n",
       "      <td>0.202</td>\n",
       "      <td>0.000</td>\n",
       "      <td>NaN</td>\n",
       "      <td>NaN</td>\n",
       "      <td>NaN</td>\n",
       "      <td>NaN</td>\n",
       "      <td>NaN</td>\n",
       "      <td>NaN</td>\n",
       "      <td>NaN</td>\n",
       "    </tr>\n",
       "    <tr>\n",
       "      <th>...</th>\n",
       "      <td>...</td>\n",
       "      <td>...</td>\n",
       "      <td>...</td>\n",
       "      <td>...</td>\n",
       "      <td>...</td>\n",
       "      <td>...</td>\n",
       "      <td>...</td>\n",
       "      <td>...</td>\n",
       "      <td>...</td>\n",
       "      <td>...</td>\n",
       "      <td>...</td>\n",
       "      <td>...</td>\n",
       "      <td>...</td>\n",
       "      <td>...</td>\n",
       "      <td>...</td>\n",
       "      <td>...</td>\n",
       "      <td>...</td>\n",
       "    </tr>\n",
       "    <tr>\n",
       "      <th>2584</th>\n",
       "      <td>2022-09-01T00:00:00</td>\n",
       "      <td>22.75</td>\n",
       "      <td>-158</td>\n",
       "      <td>75</td>\n",
       "      <td>HOT339</td>\n",
       "      <td>443.0</td>\n",
       "      <td>1948.0</td>\n",
       "      <td>2</td>\n",
       "      <td>0.180</td>\n",
       "      <td>0.227</td>\n",
       "      <td>NaN</td>\n",
       "      <td>NaN</td>\n",
       "      <td>35.1478</td>\n",
       "      <td>200248.0</td>\n",
       "      <td>370916.0</td>\n",
       "      <td>1742.0</td>\n",
       "      <td>910.0</td>\n",
       "    </tr>\n",
       "    <tr>\n",
       "      <th>2585</th>\n",
       "      <td>2022-09-01T00:00:00</td>\n",
       "      <td>22.75</td>\n",
       "      <td>-158</td>\n",
       "      <td>100</td>\n",
       "      <td>HOT339</td>\n",
       "      <td>443.0</td>\n",
       "      <td>1948.0</td>\n",
       "      <td>2</td>\n",
       "      <td>0.208</td>\n",
       "      <td>0.578</td>\n",
       "      <td>NaN</td>\n",
       "      <td>NaN</td>\n",
       "      <td>35.1896</td>\n",
       "      <td>121881.0</td>\n",
       "      <td>251964.0</td>\n",
       "      <td>150.0</td>\n",
       "      <td>1067.0</td>\n",
       "    </tr>\n",
       "    <tr>\n",
       "      <th>2586</th>\n",
       "      <td>2022-09-01T00:00:00</td>\n",
       "      <td>22.75</td>\n",
       "      <td>-158</td>\n",
       "      <td>125</td>\n",
       "      <td>HOT339</td>\n",
       "      <td>443.0</td>\n",
       "      <td>1948.0</td>\n",
       "      <td>2</td>\n",
       "      <td>0.130</td>\n",
       "      <td>0.418</td>\n",
       "      <td>NaN</td>\n",
       "      <td>NaN</td>\n",
       "      <td>35.1410</td>\n",
       "      <td>24478.0</td>\n",
       "      <td>200659.0</td>\n",
       "      <td>7.0</td>\n",
       "      <td>790.0</td>\n",
       "    </tr>\n",
       "    <tr>\n",
       "      <th>2587</th>\n",
       "      <td>2022-09-01T00:00:00</td>\n",
       "      <td>22.75</td>\n",
       "      <td>-158</td>\n",
       "      <td>150</td>\n",
       "      <td>HOT339</td>\n",
       "      <td>443.0</td>\n",
       "      <td>1948.0</td>\n",
       "      <td>2</td>\n",
       "      <td>0.076</td>\n",
       "      <td>0.310</td>\n",
       "      <td>NaN</td>\n",
       "      <td>NaN</td>\n",
       "      <td>35.0502</td>\n",
       "      <td>13892.0</td>\n",
       "      <td>161622.0</td>\n",
       "      <td>10.0</td>\n",
       "      <td>409.0</td>\n",
       "    </tr>\n",
       "    <tr>\n",
       "      <th>2588</th>\n",
       "      <td>2022-09-01T00:00:00</td>\n",
       "      <td>22.75</td>\n",
       "      <td>-158</td>\n",
       "      <td>175</td>\n",
       "      <td>HOT339</td>\n",
       "      <td>443.0</td>\n",
       "      <td>1948.0</td>\n",
       "      <td>2</td>\n",
       "      <td>0.038</td>\n",
       "      <td>0.128</td>\n",
       "      <td>NaN</td>\n",
       "      <td>NaN</td>\n",
       "      <td>34.9628</td>\n",
       "      <td>4569.0</td>\n",
       "      <td>149048.0</td>\n",
       "      <td>0.0</td>\n",
       "      <td>173.0</td>\n",
       "    </tr>\n",
       "  </tbody>\n",
       "</table>\n",
       "<p>2589 rows × 17 columns</p>\n",
       "</div>"
      ],
      "text/plain": [
       "                     time    lat  lon  depth  cruise  stime   etime  itype   \n",
       "0     1988-10-31T00:00:00  22.75 -158     24  HOT001    NaN     NaN      0  \\\n",
       "1     1988-10-31T00:00:00  22.75 -158     42  HOT001    NaN     NaN      0   \n",
       "2     1988-10-31T00:00:00  22.75 -158     68  HOT001    NaN     NaN      0   \n",
       "3     1988-10-31T00:00:00  22.75 -158    114  HOT001    NaN     NaN      0   \n",
       "4     1988-12-02T00:00:00  22.75 -158      0  HOT002    NaN     NaN      0   \n",
       "...                   ...    ...  ...    ...     ...    ...     ...    ...   \n",
       "2584  2022-09-01T00:00:00  22.75 -158     75  HOT339  443.0  1948.0      2   \n",
       "2585  2022-09-01T00:00:00  22.75 -158    100  HOT339  443.0  1948.0      2   \n",
       "2586  2022-09-01T00:00:00  22.75 -158    125  HOT339  443.0  1948.0      2   \n",
       "2587  2022-09-01T00:00:00  22.75 -158    150  HOT339  443.0  1948.0      2   \n",
       "2588  2022-09-01T00:00:00  22.75 -158    175  HOT339  443.0  1948.0      2   \n",
       "\n",
       "        chl  phaeo    l12   d12     bsal     pbact     hbact   sbact   ebact  \n",
       "0     0.129  0.077  12.21   NaN      NaN       NaN       NaN     NaN     NaN  \n",
       "1     0.192  0.051   2.47  0.07      NaN       NaN       NaN     NaN     NaN  \n",
       "2     0.285  0.303   2.58  0.06      NaN       NaN       NaN     NaN     NaN  \n",
       "3     0.326  0.044   0.72  0.16      NaN       NaN       NaN     NaN     NaN  \n",
       "4     0.202  0.000    NaN   NaN      NaN       NaN       NaN     NaN     NaN  \n",
       "...     ...    ...    ...   ...      ...       ...       ...     ...     ...  \n",
       "2584  0.180  0.227    NaN   NaN  35.1478  200248.0  370916.0  1742.0   910.0  \n",
       "2585  0.208  0.578    NaN   NaN  35.1896  121881.0  251964.0   150.0  1067.0  \n",
       "2586  0.130  0.418    NaN   NaN  35.1410   24478.0  200659.0     7.0   790.0  \n",
       "2587  0.076  0.310    NaN   NaN  35.0502   13892.0  161622.0    10.0   409.0  \n",
       "2588  0.038  0.128    NaN   NaN  34.9628    4569.0  149048.0     0.0   173.0  \n",
       "\n",
       "[2589 rows x 17 columns]"
      ]
     },
     "metadata": {},
     "output_type": "display_data"
    },
    {
     "data": {
      "text/html": [
       "<div>\n",
       "<style scoped>\n",
       "    .dataframe tbody tr th:only-of-type {\n",
       "        vertical-align: middle;\n",
       "    }\n",
       "\n",
       "    .dataframe tbody tr th {\n",
       "        vertical-align: top;\n",
       "    }\n",
       "\n",
       "    .dataframe thead th {\n",
       "        text-align: right;\n",
       "    }\n",
       "</style>\n",
       "<table border=\"1\" class=\"dataframe\">\n",
       "  <thead>\n",
       "    <tr style=\"text-align: right;\">\n",
       "      <th></th>\n",
       "      <th>time</th>\n",
       "      <th>lat</th>\n",
       "      <th>lon</th>\n",
       "      <th>depth</th>\n",
       "      <th>cruise</th>\n",
       "      <th>stime</th>\n",
       "      <th>etime</th>\n",
       "      <th>itype</th>\n",
       "      <th>chl</th>\n",
       "      <th>phaeo</th>\n",
       "      <th>l12</th>\n",
       "      <th>d12</th>\n",
       "      <th>bsal</th>\n",
       "      <th>pbact</th>\n",
       "      <th>hbact</th>\n",
       "      <th>sbact</th>\n",
       "      <th>ebact</th>\n",
       "      <th>round_depth</th>\n",
       "    </tr>\n",
       "  </thead>\n",
       "  <tbody>\n",
       "    <tr>\n",
       "      <th>0</th>\n",
       "      <td>1988-10-31</td>\n",
       "      <td>22.75</td>\n",
       "      <td>-158</td>\n",
       "      <td>24</td>\n",
       "      <td>HOT001</td>\n",
       "      <td>NaN</td>\n",
       "      <td>NaN</td>\n",
       "      <td>0</td>\n",
       "      <td>0.129</td>\n",
       "      <td>0.077</td>\n",
       "      <td>12.21</td>\n",
       "      <td>NaN</td>\n",
       "      <td>NaN</td>\n",
       "      <td>NaN</td>\n",
       "      <td>NaN</td>\n",
       "      <td>NaN</td>\n",
       "      <td>NaN</td>\n",
       "      <td>20</td>\n",
       "    </tr>\n",
       "    <tr>\n",
       "      <th>1</th>\n",
       "      <td>1988-10-31</td>\n",
       "      <td>22.75</td>\n",
       "      <td>-158</td>\n",
       "      <td>42</td>\n",
       "      <td>HOT001</td>\n",
       "      <td>NaN</td>\n",
       "      <td>NaN</td>\n",
       "      <td>0</td>\n",
       "      <td>0.192</td>\n",
       "      <td>0.051</td>\n",
       "      <td>2.47</td>\n",
       "      <td>0.07</td>\n",
       "      <td>NaN</td>\n",
       "      <td>NaN</td>\n",
       "      <td>NaN</td>\n",
       "      <td>NaN</td>\n",
       "      <td>NaN</td>\n",
       "      <td>40</td>\n",
       "    </tr>\n",
       "    <tr>\n",
       "      <th>2</th>\n",
       "      <td>1988-10-31</td>\n",
       "      <td>22.75</td>\n",
       "      <td>-158</td>\n",
       "      <td>68</td>\n",
       "      <td>HOT001</td>\n",
       "      <td>NaN</td>\n",
       "      <td>NaN</td>\n",
       "      <td>0</td>\n",
       "      <td>0.285</td>\n",
       "      <td>0.303</td>\n",
       "      <td>2.58</td>\n",
       "      <td>0.06</td>\n",
       "      <td>NaN</td>\n",
       "      <td>NaN</td>\n",
       "      <td>NaN</td>\n",
       "      <td>NaN</td>\n",
       "      <td>NaN</td>\n",
       "      <td>60</td>\n",
       "    </tr>\n",
       "    <tr>\n",
       "      <th>3</th>\n",
       "      <td>1988-10-31</td>\n",
       "      <td>22.75</td>\n",
       "      <td>-158</td>\n",
       "      <td>114</td>\n",
       "      <td>HOT001</td>\n",
       "      <td>NaN</td>\n",
       "      <td>NaN</td>\n",
       "      <td>0</td>\n",
       "      <td>0.326</td>\n",
       "      <td>0.044</td>\n",
       "      <td>0.72</td>\n",
       "      <td>0.16</td>\n",
       "      <td>NaN</td>\n",
       "      <td>NaN</td>\n",
       "      <td>NaN</td>\n",
       "      <td>NaN</td>\n",
       "      <td>NaN</td>\n",
       "      <td>100</td>\n",
       "    </tr>\n",
       "    <tr>\n",
       "      <th>4</th>\n",
       "      <td>1988-12-02</td>\n",
       "      <td>22.75</td>\n",
       "      <td>-158</td>\n",
       "      <td>0</td>\n",
       "      <td>HOT002</td>\n",
       "      <td>NaN</td>\n",
       "      <td>NaN</td>\n",
       "      <td>0</td>\n",
       "      <td>0.202</td>\n",
       "      <td>0.000</td>\n",
       "      <td>NaN</td>\n",
       "      <td>NaN</td>\n",
       "      <td>NaN</td>\n",
       "      <td>NaN</td>\n",
       "      <td>NaN</td>\n",
       "      <td>NaN</td>\n",
       "      <td>NaN</td>\n",
       "      <td>0</td>\n",
       "    </tr>\n",
       "    <tr>\n",
       "      <th>...</th>\n",
       "      <td>...</td>\n",
       "      <td>...</td>\n",
       "      <td>...</td>\n",
       "      <td>...</td>\n",
       "      <td>...</td>\n",
       "      <td>...</td>\n",
       "      <td>...</td>\n",
       "      <td>...</td>\n",
       "      <td>...</td>\n",
       "      <td>...</td>\n",
       "      <td>...</td>\n",
       "      <td>...</td>\n",
       "      <td>...</td>\n",
       "      <td>...</td>\n",
       "      <td>...</td>\n",
       "      <td>...</td>\n",
       "      <td>...</td>\n",
       "      <td>...</td>\n",
       "    </tr>\n",
       "    <tr>\n",
       "      <th>2583</th>\n",
       "      <td>2022-09-01</td>\n",
       "      <td>22.75</td>\n",
       "      <td>-158</td>\n",
       "      <td>45</td>\n",
       "      <td>HOT339</td>\n",
       "      <td>443.0</td>\n",
       "      <td>1948.0</td>\n",
       "      <td>2</td>\n",
       "      <td>0.139</td>\n",
       "      <td>0.154</td>\n",
       "      <td>NaN</td>\n",
       "      <td>NaN</td>\n",
       "      <td>35.0500</td>\n",
       "      <td>218571.0</td>\n",
       "      <td>512309.0</td>\n",
       "      <td>1417.0</td>\n",
       "      <td>922.0</td>\n",
       "      <td>40</td>\n",
       "    </tr>\n",
       "    <tr>\n",
       "      <th>2584</th>\n",
       "      <td>2022-09-01</td>\n",
       "      <td>22.75</td>\n",
       "      <td>-158</td>\n",
       "      <td>75</td>\n",
       "      <td>HOT339</td>\n",
       "      <td>443.0</td>\n",
       "      <td>1948.0</td>\n",
       "      <td>2</td>\n",
       "      <td>0.180</td>\n",
       "      <td>0.227</td>\n",
       "      <td>NaN</td>\n",
       "      <td>NaN</td>\n",
       "      <td>35.1478</td>\n",
       "      <td>200248.0</td>\n",
       "      <td>370916.0</td>\n",
       "      <td>1742.0</td>\n",
       "      <td>910.0</td>\n",
       "      <td>60</td>\n",
       "    </tr>\n",
       "    <tr>\n",
       "      <th>2585</th>\n",
       "      <td>2022-09-01</td>\n",
       "      <td>22.75</td>\n",
       "      <td>-158</td>\n",
       "      <td>100</td>\n",
       "      <td>HOT339</td>\n",
       "      <td>443.0</td>\n",
       "      <td>1948.0</td>\n",
       "      <td>2</td>\n",
       "      <td>0.208</td>\n",
       "      <td>0.578</td>\n",
       "      <td>NaN</td>\n",
       "      <td>NaN</td>\n",
       "      <td>35.1896</td>\n",
       "      <td>121881.0</td>\n",
       "      <td>251964.0</td>\n",
       "      <td>150.0</td>\n",
       "      <td>1067.0</td>\n",
       "      <td>100</td>\n",
       "    </tr>\n",
       "    <tr>\n",
       "      <th>2586</th>\n",
       "      <td>2022-09-01</td>\n",
       "      <td>22.75</td>\n",
       "      <td>-158</td>\n",
       "      <td>125</td>\n",
       "      <td>HOT339</td>\n",
       "      <td>443.0</td>\n",
       "      <td>1948.0</td>\n",
       "      <td>2</td>\n",
       "      <td>0.130</td>\n",
       "      <td>0.418</td>\n",
       "      <td>NaN</td>\n",
       "      <td>NaN</td>\n",
       "      <td>35.1410</td>\n",
       "      <td>24478.0</td>\n",
       "      <td>200659.0</td>\n",
       "      <td>7.0</td>\n",
       "      <td>790.0</td>\n",
       "      <td>120</td>\n",
       "    </tr>\n",
       "    <tr>\n",
       "      <th>2588</th>\n",
       "      <td>2022-09-01</td>\n",
       "      <td>22.75</td>\n",
       "      <td>-158</td>\n",
       "      <td>175</td>\n",
       "      <td>HOT339</td>\n",
       "      <td>443.0</td>\n",
       "      <td>1948.0</td>\n",
       "      <td>2</td>\n",
       "      <td>0.038</td>\n",
       "      <td>0.128</td>\n",
       "      <td>NaN</td>\n",
       "      <td>NaN</td>\n",
       "      <td>34.9628</td>\n",
       "      <td>4569.0</td>\n",
       "      <td>149048.0</td>\n",
       "      <td>0.0</td>\n",
       "      <td>173.0</td>\n",
       "      <td>160</td>\n",
       "    </tr>\n",
       "  </tbody>\n",
       "</table>\n",
       "<p>2589 rows × 18 columns</p>\n",
       "</div>"
      ],
      "text/plain": [
       "           time    lat  lon  depth  cruise  stime   etime  itype    chl   \n",
       "0    1988-10-31  22.75 -158     24  HOT001    NaN     NaN      0  0.129  \\\n",
       "1    1988-10-31  22.75 -158     42  HOT001    NaN     NaN      0  0.192   \n",
       "2    1988-10-31  22.75 -158     68  HOT001    NaN     NaN      0  0.285   \n",
       "3    1988-10-31  22.75 -158    114  HOT001    NaN     NaN      0  0.326   \n",
       "4    1988-12-02  22.75 -158      0  HOT002    NaN     NaN      0  0.202   \n",
       "...         ...    ...  ...    ...     ...    ...     ...    ...    ...   \n",
       "2583 2022-09-01  22.75 -158     45  HOT339  443.0  1948.0      2  0.139   \n",
       "2584 2022-09-01  22.75 -158     75  HOT339  443.0  1948.0      2  0.180   \n",
       "2585 2022-09-01  22.75 -158    100  HOT339  443.0  1948.0      2  0.208   \n",
       "2586 2022-09-01  22.75 -158    125  HOT339  443.0  1948.0      2  0.130   \n",
       "2588 2022-09-01  22.75 -158    175  HOT339  443.0  1948.0      2  0.038   \n",
       "\n",
       "      phaeo    l12   d12     bsal     pbact     hbact   sbact   ebact   \n",
       "0     0.077  12.21   NaN      NaN       NaN       NaN     NaN     NaN  \\\n",
       "1     0.051   2.47  0.07      NaN       NaN       NaN     NaN     NaN   \n",
       "2     0.303   2.58  0.06      NaN       NaN       NaN     NaN     NaN   \n",
       "3     0.044   0.72  0.16      NaN       NaN       NaN     NaN     NaN   \n",
       "4     0.000    NaN   NaN      NaN       NaN       NaN     NaN     NaN   \n",
       "...     ...    ...   ...      ...       ...       ...     ...     ...   \n",
       "2583  0.154    NaN   NaN  35.0500  218571.0  512309.0  1417.0   922.0   \n",
       "2584  0.227    NaN   NaN  35.1478  200248.0  370916.0  1742.0   910.0   \n",
       "2585  0.578    NaN   NaN  35.1896  121881.0  251964.0   150.0  1067.0   \n",
       "2586  0.418    NaN   NaN  35.1410   24478.0  200659.0     7.0   790.0   \n",
       "2588  0.128    NaN   NaN  34.9628    4569.0  149048.0     0.0   173.0   \n",
       "\n",
       "      round_depth  \n",
       "0              20  \n",
       "1              40  \n",
       "2              60  \n",
       "3             100  \n",
       "4               0  \n",
       "...           ...  \n",
       "2583           40  \n",
       "2584           60  \n",
       "2585          100  \n",
       "2586          120  \n",
       "2588          160  \n",
       "\n",
       "[2589 rows x 18 columns]"
      ]
     },
     "metadata": {},
     "output_type": "display_data"
    }
   ],
   "source": [
    "import pycmap\n",
    "import pandas as pd\n",
    "import warnings\n",
    "import numpy as np\n",
    "warnings.filterwarnings(\"ignore\")\n",
    "# fill in your key\n",
    "key = \"af86ca5b-4c94-4e90-8ca6-dda99d919346\"   # paste the api key              \n",
    "#call the CMAP API using your unique key\n",
    "api = pycmap.API(token=key)\n",
    "# grab the dataset from the API\n",
    "hot_df = api.get_dataset('tblHOT_PP_v2022')\n",
    "\n",
    "# display your dataframe\n",
    "display(hot_df)\n",
    "\n",
    "# your code \n",
    "\n",
    "# convert the dates to date time \n",
    "hot_df['time'] = pd.to_datetime(hot_df['time']) # put the datetime into the time column without making a new one\n",
    "\n",
    "# sort by the time column using the pandas sort values \n",
    "hot_df = hot_df.sort_values('time') \n",
    "\n",
    "# making a new column for rounded depths \n",
    "hot_df['round_depth'] = hot_df['depth'] // 20*20    # the // makes it all an integer \n",
    "                                                    # we then multiply by 20 because if we have \n",
    "                                            #it divided by the smalled multiple we want to multiply by 20 so it will evenly fit \n",
    "display(hot_df)"
   ]
  },
  {
   "cell_type": "code",
   "execution_count": 3,
   "id": "ac748beb",
   "metadata": {
    "deletable": false,
    "editable": false,
    "tags": []
   },
   "outputs": [
    {
     "data": {
      "text/html": [
       "<p><strong><pre style='display: inline;'>Question 1, Part 1</pre></strong> passed! 🌈</p>"
      ],
      "text/plain": [
       "Question 1, Part 1 results: All test cases passed!"
      ]
     },
     "execution_count": 3,
     "metadata": {},
     "output_type": "execute_result"
    }
   ],
   "source": [
    "grader.check(\"Question 1, Part 1\")"
   ]
  },
  {
   "cell_type": "markdown",
   "id": "8d182dff-b38e-470c-8f08-1ea4dc1f7086",
   "metadata": {
    "deletable": false,
    "editable": false
   },
   "source": [
    "## Part 2 (15 minutes)\n",
    "There are two types of production measurements in our dataframe: light incubations and dark incubations. We will check our dataframe to see how many measurements of each incubation type are present. \n",
    "\n",
    "1) Using the `loc` function, subset your `hot_df` dataframe for rows such that the \"l12\" column is **not null**. Store your new dataframe in the `good_light` answer variable. _HINT_: Use the `notnull()` function [(Source)](https://pandas.pydata.org/docs/reference/api/pandas.DataFrame.notnull.html)\n",
    "\n",
    "2) Perform the same operation for the \"d12\" column. Store your subsetted dataframe in the `good_dark` dataframe. \n",
    "\n",
    "3) Using the `len()` function, print the number of rows for each subsetted dataframe. Which dataframe contains more rows?"
   ]
  },
  {
   "cell_type": "code",
   "execution_count": 4,
   "id": "4d4f8bb1-12ee-41dc-a060-fb397b2a738d",
   "metadata": {
    "tags": []
   },
   "outputs": [
    {
     "name": "stdout",
     "output_type": "stream",
     "text": [
      "2153\n",
      "900\n"
     ]
    }
   ],
   "source": [
    "# answer variables\n",
    "good_light = hot_df.loc[hot_df['l12'].notnull()]   # take the data from the l12 column and then use the .notnull to remove \n",
    "                                                    # the nan data points \n",
    "good_dark = hot_df.loc[hot_df['d12'].notnull()]    # do the same as we did for good light \n",
    "\n",
    "# print statements\n",
    "print(len(good_light))   # print the len() \n",
    "print(len(good_dark))"
   ]
  },
  {
   "cell_type": "code",
   "execution_count": 5,
   "id": "89e86c0f",
   "metadata": {
    "deletable": false,
    "editable": false,
    "tags": []
   },
   "outputs": [
    {
     "data": {
      "text/html": [
       "<p><strong><pre style='display: inline;'>Question 1, Part 2</pre></strong> passed! 🌈</p>"
      ],
      "text/plain": [
       "Question 1, Part 2 results: All test cases passed!"
      ]
     },
     "execution_count": 5,
     "metadata": {},
     "output_type": "execute_result"
    }
   ],
   "source": [
    "grader.check(\"Question 1, Part 2\")"
   ]
  },
  {
   "cell_type": "markdown",
   "id": "6e020a01-6d17-4cdb-b5f2-858e28d2488e",
   "metadata": {
    "deletable": false,
    "editable": false
   },
   "source": [
    "## Part 3 (30 minutes)\n",
    "Plot the depth profile of primary production as a time series. Since there were more light incubation measurements taken, we will continue using the \"l12\" column in `hot_df`. \n",
    "\n",
    "1) There are replicate samples taken throughout the cruise, so we will first aggregate these samples by taking the mean. We will group on the \"time\", \"lat\", \"lon\", \"round_depth\", \"cruise\" columns. Store these column names a list in the `indices` variable. \n",
    "\n",
    "2) Using the `groupby()` function, aggregate the `good_light` dataframe by `indices` and calculate the mean. Store your grouped dataframe in the `hot_df_grouped` variable.\n",
    "\n",
    "3) Drop the \"cruise\" index using the `droplevel()` function and update your `hot_df_grouped` variable.\n",
    "\n",
    "4) Reformat your `hot_df_grouped` dataframe into an `xarray Dataset` following the code from last week's group activity. Store your xarray Dataset in the `hot_xr` variable. \n",
    "\n",
    "5) Calculate the means across latitude and longitude for the \"l12\" data variable in `hot_xr` and store it in the `light_ts` variable.\n",
    "\n",
    "6) Create a contour plot using `contourf()`. Choose a color map and experiment with your \"vmin\", \"vmax\", and \"levels\" arguments. Don't forget your required plot elements! \n",
    "\n",
    "7) Answer the following question in a comment or markdown cell below your plot:\n",
    "\n",
    ">a) What do you notice about productivity vs. time? productivity vs. depth?\n",
    "\n",
    ">b) Do you see any patterns? Why or why not?"
   ]
  },
  {
   "cell_type": "code",
   "execution_count": 21,
   "id": "44a5704a-0516-4c74-b691-c2138255ea12",
   "metadata": {
    "tags": []
   },
   "outputs": [
    {
     "data": {
      "text/plain": [
       "<matplotlib.collections.QuadMesh at 0x7ac86d41a890>"
      ]
     },
     "execution_count": 21,
     "metadata": {},
     "output_type": "execute_result"
    },
    {
     "data": {
      "image/png": "[encoded data removed]",
      "text/plain": [
       "<Figure size 1000x600 with 2 Axes>"
      ]
     },
     "metadata": {},
     "output_type": "display_data"
    }
   ],
   "source": [
    "import xarray as xr\n",
    "import matplotlib.pyplot as plt\n",
    "from matplotlib.colors import LogNorm\n",
    "# answer variables\n",
    "indices = ['time', 'lat', 'lon', 'round_depth', 'cruise']    # put the columns of the categories we want in \n",
    "hot_df_grouped = good_light.groupby(indices).mean()   # calculating the mean \n",
    "hot_df_grouped = hot_df_grouped.droplevel('cruise')   # removing the cruise index\n",
    "\n",
    "hot_xr = xr.Dataset.from_dataframe(hot_df_grouped)   # switch to a xarray - help by ayden \n",
    "light_ts = hot_xr['l12'].mean(['lat', 'lon'])        # get the mena of lat and lon from our created xarray for the l12\n",
    "\n",
    "# your code for plotting\n",
    "new_hot = hot_xr.transpose()   # transpose in order to flip the values \n",
    "new_light_ts = light_ts.transpose()\n",
    "\n",
    "plt.figure(figsize = (10,6))\n",
    "new_light_ts.plot(yincrease = False)       # using the xarray plot function\n",
    "                                            # set the y increase to false in order to flip the y axis \n"
   ]
  },
  {
   "cell_type": "markdown",
   "id": "a728706b-169f-498a-aa37-fcf02674ad59",
   "metadata": {},
   "source": [
    "1. Prodc=uctivity is higher at the lower depths. \n",
    "2. I see patterns that on the surface is seems to go from high to low "
   ]
  },
  {
   "cell_type": "code",
   "execution_count": 22,
   "id": "bb19d1ae",
   "metadata": {
    "deletable": false,
    "editable": false
   },
   "outputs": [
    {
     "data": {
      "text/html": [
       "<p><strong><pre style='display: inline;'>Question 1, Part 3</pre></strong> passed! 💯</p>"
      ],
      "text/plain": [
       "Question 1, Part 3 results: All test cases passed!"
      ]
     },
     "execution_count": 22,
     "metadata": {},
     "output_type": "execute_result"
    }
   ],
   "source": [
    "grader.check(\"Question 1, Part 3\")"
   ]
  },
  {
   "cell_type": "markdown",
   "id": "85796e30-2519-40e5-9073-d5c21903ed78",
   "metadata": {
    "deletable": false,
    "editable": false
   },
   "source": [
    "## Part 4 (30 minutes)\n",
    "Now, we will take a look at the data in different time resolutions. First, we will resample the data into monthly means. Next, we will take a yearly rolling average across the months. \n",
    "\n",
    "1) Set the index of `hot_df` to the \"time\" column and store the new dataframe as `hot_df_time`. \n",
    "\n",
    "2) Use the `resample()` function to take montly means across the \"l12\" column of `hot_df_time`. Store these resampled values in `light_resamp`. \n",
    "\n",
    "3) Take the yearly rolling average across `light_resamp`. Set the arguments: \"center = True\" and \"min_periods = 6\". These will ensure that your data is centered and smooths missing data values. _HINT_: How many months are in a year? Store your rolling averages in the `light_roll` variable. \n",
    "\n",
    "4) Create a figure of with your monthly resampled values and your yearly rolling averages. Plot these data as 2 different colors and give the markers. Include a legend, axis labels, and appropriate font sizes. \n",
    "\n",
    "5) Answer the following questions in a comment or markdown cell below your plot: \n",
    "\n",
    ">a) What do you notice about the overall productivity? Keep in mind that these includes all depths. \n",
    "\n",
    ">b) What kind of questions can you ask about the resampled monthly data? What about the rolling yearly averages? How do these results differ?"
   ]
  },
  {
   "cell_type": "code",
   "execution_count": null,
   "id": "fd0a8585-b007-4029-95f0-10fd1178a64c",
   "metadata": {
    "tags": []
   },
   "outputs": [],
   "source": [
    "# answer variables\n",
    "hot_df_time = \"\"\n",
    "light_resamp = \"\"\n",
    "light_roll = \"\"\n",
    "\n",
    "# your code for plotting"
   ]
  },
  {
   "cell_type": "code",
   "execution_count": null,
   "id": "73227464",
   "metadata": {
    "deletable": false,
    "editable": false
   },
   "outputs": [],
   "source": [
    "grader.check(\"Question 1, Part 4\")"
   ]
  },
  {
   "cell_type": "markdown",
   "id": "8afdf1aa-df0e-4ee7-977a-d3eb5e204a90",
   "metadata": {
    "deletable": false,
    "editable": false
   },
   "source": [
    "<!-- BEGIN QUESTION -->\n",
    "\n",
    "## Part 5 (20 minutes)\n",
    "Finally, we will look at the seasonal changes of production at Station ALOHA. \n",
    "\n",
    "1) Create a new index named `months` by finding the months from `hot_df_time`. (_HINT_: Check this week's Lesson 15 prelecture demo on how to do this.)\n",
    "\n",
    "2) Use `groupby()` on the `hot_df_time` \"l12\" column to find the means for each month. Store this variable in `month_means`. \n",
    "\n",
    "3) Following the same step in 2), calculate the standard errors (`sem()`) for each month. Store this variable in `month_sems`. \n",
    "\n",
    "4) Create a barplot of your monthly mean production. Include an error bar using the \"yerr\" argument. Include a legend, axis labels, and appropriate font sizes. (_HINT_: Review week 7 prelecture demo code from Lesson 11)\n",
    "\n",
    "5) Answer the following questions in a comment or markdown cell below your plot: \n",
    "\n",
    ">a) What patterns in monthly productivity do you see? \n",
    "\n",
    ">b) What is the range in standard error? \n",
    "\n",
    ">c) What does this say about the variability in productivity month to month? year to year?"
   ]
  },
  {
   "cell_type": "code",
   "execution_count": null,
   "id": "891e7aad-9d5b-42d5-8b03-3eacbb59f654",
   "metadata": {
    "tags": []
   },
   "outputs": [],
   "source": [
    "# answer variables\n",
    "months = \"\"\n",
    "month_means = \"\"\n",
    "month_sems = \"\"\n",
    "\n",
    "# code for plotting\n"
   ]
  },
  {
   "cell_type": "markdown",
   "id": "5709373e-5cf3-4a0c-a443-9950ec28f2f2",
   "metadata": {
    "deletable": false,
    "editable": false
   },
   "source": [
    "<!-- END QUESTION -->\n",
    "\n",
    "<!-- BEGIN QUESTION -->\n",
    "\n",
    "## Optional (only attempt if you've finished the Parts 1-4 and still have time!)\n",
    "\n",
    "In July of 2000, there was a peak in productivity and chlorophyll, signifying a phytoplankton bloom. Here, we will investigate this phenomenon in more detail. \n",
    "\n",
    "1) Subset your `hot_df_time` dataframe from \"2000-01-01\" to \"2001-01-01\". \n",
    "\n",
    "2) Follow the steps from part 3 to format and plot your subsetted data for the \"l12 column. \n",
    "\n",
    "3) Create a similar plot for Chlorophyll. \n",
    "\n",
    "4) Answer the following questions: \n",
    "\n",
    ">a) What is the general relationship between chlorophyll and primary productivity?\n",
    "\n",
    ">b) Do they always align? When? When do they not align?\n",
    "\n",
    ">c) Why do you think so?"
   ]
  },
  {
   "cell_type": "code",
   "execution_count": null,
   "id": "56bfd6c8-7b81-4820-939a-5620743fc00b",
   "metadata": {
    "tags": []
   },
   "outputs": [],
   "source": [
    "# your code \n"
   ]
  },
  {
   "cell_type": "markdown",
   "id": "54a54af1-6920-4d69-8da8-23ad3734e31b",
   "metadata": {
    "deletable": false,
    "editable": false
   },
   "source": [
    "<!-- END QUESTION -->\n",
    "\n",
    "<!-- BEGIN QUESTION -->\n",
    "\n",
    "# Reflection questions (5 minutes)\n",
    "The purpose of the reflection is to inform us as instructors about students comfort level with course content. We use these answers to inform how we spend class time and design coursework in subsequent weeks. This question is graded for completeness, so please answer each question in the text box below. Be concise in your answers (max. 2 sentences). \n",
    "\n",
    "1) What do you feel you excelled at in this exercise? Why?\n",
    "\n",
    "2) What did you struggle with most in the exercise? Why?\n",
    "\n",
    "3) Is there any section of the question that you did not complete? If so, briefly describe why and the section you spent the most time on. \n",
    "\n",
    "4) Is there any topic you feel we need to revisit or review in class? Why?"
   ]
  },
  {
   "cell_type": "markdown",
   "id": "45adc65d",
   "metadata": {},
   "source": [
    "1. We did good at manipulating and storing the dataframe in part 1. \n",
    "2. We struggled with the plot and constructing it because we did it not using countour. \n",
    "3. Did not complete part 4 and 5 because we got stuck on making the graph in the correct direction. \n",
    "4. I feel as though we should revisit the differnet features of making a plot and understanding which ones are different. "
   ]
  },
  {
   "cell_type": "markdown",
   "id": "e4bb29d1",
   "metadata": {
    "deletable": false,
    "editable": false
   },
   "source": [
    "<!-- END QUESTION -->\n",
    "\n"
   ]
  },
  {
   "cell_type": "markdown",
   "id": "8e542d30",
   "metadata": {
    "deletable": false,
    "editable": false
   },
   "source": [
    "---\n",
    "\n",
    "To double-check your work, the cell below will rerun all of the autograder tests."
   ]
  },
  {
   "cell_type": "code",
   "execution_count": null,
   "id": "c8e4632d",
   "metadata": {
    "deletable": false,
    "editable": false,
    "tags": []
   },
   "outputs": [],
   "source": [
    "grader.check_all()"
   ]
  }
 ],
 "metadata": {
  "kernelspec": {
   "display_name": "Python 3 (ipykernel)",
   "language": "python",
   "name": "python3"
  },
  "language_info": {
   "codemirror_mode": {
    "name": "ipython",
    "version": 3
   },
   "file_extension": ".py",
   "mimetype": "text/x-python",
   "name": "python",
   "nbconvert_exporter": "python",
   "pygments_lexer": "ipython3",
   "version": "3.10.10"
  },
  "otter": {
   "OK_FORMAT": true,
   "tests": {
    "Question 1, Part 1": {
     "name": "Question 1, Part 1",
     "points": 0,
     "suites": [
      {
       "cases": [
        {
         "code": ">>> hot_df['time'].dtype == '<M8[ns]'\nTrue",
         "failure_message": "Check hot_df \"time\" column!",
         "hidden": false,
         "locked": false,
         "points": 0
        }
       ],
       "scored": true,
       "setup": "",
       "teardown": "",
       "type": "doctest"
      }
     ]
    },
    "Question 1, Part 2": {
     "name": "Question 1, Part 2",
     "points": 0,
     "suites": [
      {
       "cases": [
        {
         "code": ">>> len(good_light) == 2153\nTrue",
         "failure_message": "Check good_light dataframe!",
         "hidden": false,
         "locked": false,
         "points": 0
        },
        {
         "code": ">>> len(good_dark) == 900\nTrue",
         "failure_message": "Check good_light dataframe!",
         "hidden": false,
         "locked": false,
         "points": 0
        }
       ],
       "scored": true,
       "setup": "",
       "teardown": "",
       "type": "doctest"
      }
     ]
    },
    "Question 1, Part 3": {
     "name": "Question 1, Part 3",
     "points": 0,
     "suites": [
      {
       "cases": [
        {
         "code": ">>> indices == ['time', 'lat', 'lon', 'round_depth', 'cruise']\nTrue",
         "failure_message": "Check your indices variable!",
         "hidden": false,
         "locked": false,
         "points": 0
        },
        {
         "code": ">>> len(hot_df_grouped) == 2016\nTrue",
         "failure_message": "Check your hot_df_grouped variable!",
         "hidden": false,
         "locked": false,
         "points": 0
        },
        {
         "code": ">>> light_ts.shape\n(304, 9)",
         "hidden": false,
         "locked": false
        },
        {
         "code": ">>> light_ts.shape == (304, 9)\nTrue",
         "failure_message": "Check your indices variable!",
         "hidden": false,
         "locked": false,
         "points": 0
        }
       ],
       "scored": true,
       "setup": "",
       "teardown": "",
       "type": "doctest"
      }
     ]
    },
    "Question 1, Part 4": {
     "name": "Question 1, Part 4",
     "points": 0,
     "suites": [
      {
       "cases": [
        {
         "code": ">>> hot_df_time.index.dtype == '<M8[ns]'\nTrue",
         "failure_message": "Check your hot_df_time variable!",
         "hidden": false,
         "locked": false,
         "points": 0
        },
        {
         "code": ">>> len(light_resamp) == 408\nTrue",
         "failure_message": "Check your light_resamp variable!",
         "hidden": false,
         "locked": false,
         "points": 0
        },
        {
         "code": ">>> len(light_roll) == 408\nTrue",
         "failure_message": "Check your light_roll variable!",
         "hidden": false,
         "locked": false,
         "points": 0
        }
       ],
       "scored": true,
       "setup": "",
       "teardown": "",
       "type": "doctest"
      }
     ]
    }
   }
  }
 },
 "nbformat": 4,
 "nbformat_minor": 5
}
